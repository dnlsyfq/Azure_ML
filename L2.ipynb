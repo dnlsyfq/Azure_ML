{
 "cells": [
  {
   "cell_type": "markdown",
   "metadata": {},
   "source": [
    "# Machine Learning"
   ]
  },
  {
   "cell_type": "markdown",
   "metadata": {},
   "source": [
    "extract patterns from data, allowing computers to identify related data, and forecast future outcomes, behaviors, and trends.\n",
    "* application and pattern recognition\n",
    "* anomaly detection\n",
    "* forecasting\n",
    "* recommendation"
   ]
  },
  {
   "cell_type": "markdown",
   "metadata": {},
   "source": [
    "1. Collect Data\n",
    "2. Prepare Data\n",
    "3. Train Model - feature vectorization, scaling , tuning , performance ,\n",
    "4. Evalute Model - from Validation Set , test and compare \n",
    "5. Deploy \n",
    "6. Retrain Model - fresh data \n",
    "\n"
   ]
  },
  {
   "cell_type": "markdown",
   "metadata": {},
   "source": [
    "* Numerical : Int , Float \n",
    "* Time-Series \n",
    "* Speech \n",
    "* Categorical : cardinality\n",
    "* Text \n",
    "* Image\n",
    "\n",
    "\n",
    "Works with no. or vectors . \n",
    "Vectors , array of no. or nested arrays of arrays of numbers\n",
    "\n",
    "* Continous Numerical features\n",
    "    * Scale Data \n",
    "    "
   ]
  },
  {
   "cell_type": "markdown",
   "metadata": {},
   "source": [
    "## Scaling Data\n",
    "\n",
    "Transforming it so that the values fit within some range or scale, such as 0–100 or 0–1. This scaling process will not affect the algorithm output since every value is scaled in the same way. But it can speed up the training process, because now the algorithm only needs to handle numbers less than or equal to 1.\n",
    "\n",
    "\n",
    "Two common approaches to scaling data include standardization and normalization:\n",
    " \n",
    "* **Standardization** : rescale data to have mean = 0 and variance = 1\n",
    " \n",
    "> $\\large \\frac {x-\\mu}{\\sigma}$\n",
    "\n",
    "* **Normalization** : rescale data into range [0,1]\n",
    "\n",
    "> $\\large \\frac {x-x_{min}}{x_{max}-x_{min}}$"
   ]
  },
  {
   "cell_type": "code",
   "execution_count": 6,
   "metadata": {},
   "outputs": [],
   "source": [
    "import numpy as np\n",
    "arr = np.array([-5,10,15])"
   ]
  },
  {
   "cell_type": "code",
   "execution_count": 8,
   "metadata": {},
   "outputs": [
    {
     "data": {
      "text/plain": [
       "array([-1.2,  0.3,  0.8])"
      ]
     },
     "execution_count": 8,
     "metadata": {},
     "output_type": "execute_result"
    }
   ],
   "source": [
    "(arr - 7)/10"
   ]
  },
  {
   "cell_type": "code",
   "execution_count": 9,
   "metadata": {},
   "outputs": [
    {
     "data": {
      "text/plain": [
       "array([0.  , 0.75, 1.  ])"
      ]
     },
     "execution_count": 9,
     "metadata": {},
     "output_type": "execute_result"
    }
   ],
   "source": [
    "(arr - arr.min()) / (arr.max() - arr.min())"
   ]
  },
  {
   "cell_type": "markdown",
   "metadata": {},
   "source": [
    "## Encoding Categorical Data\n",
    "\n",
    "Categorical data, we need to encode it in some way so that it is represented numerically.\n",
    "There are two common approaches for encoding categorical data: ordinal encoding and one hot encoding.\n",
    "\n",
    "|SKU|Make|\n",
    "|---|---|\n",
    "|908721|Guess|\n",
    "|456552|Tillys|\n",
    "|789921|A&F|\n",
    "|872266|Guess|\n",
    "\n",
    "\n",
    "\n",
    "* Ordinal Encoding : Cons -  implicitly assumes an order across the categories\n",
    "convert the categorical data into integer codes ranging from 0 to (number of categories – 1)\n",
    "\n",
    "|Maker|Encoding|\n",
    "|---|---|\n",
    "|A&F|0|\n",
    "|Guess|1|\n",
    "|TILLYS|2|\n",
    "\n",
    "\n",
    "|SKU|Make|\n",
    "|---|---|\n",
    "|908721|1|\n",
    "|456552|2|\n",
    "|789921|0|\n",
    "|872266|1|\n",
    "\n",
    "* One Hot Encoding : Cons - More Columns \n",
    "\n",
    "|SKU|A&F|Guess|TILLYS|\n",
    "|---|---|---|---|\n",
    "|908721|0|1|0|\n",
    "|456552|0|0|1|\n",
    "|789921|1|0|0|\n",
    "|872266|1|0|0|\n",
    "\n",
    "\n"
   ]
  },
  {
   "cell_type": "markdown",
   "metadata": {},
   "source": [
    "## Image Data\n",
    "\n",
    "image can be encoded numerically\n",
    "\n",
    "* In grayscale images, each pixel can be represented by a single number, which typically ranges from 0 to 255\n",
    "\n",
    "* In colored images, each pixel can be represented by a vector of three numbers (each ranging from 0 to 255) for the three primary color channels: red, green, and blue\n",
    "\n",
    "\n",
    "RGB Image\n",
    "* Height = 100 px\n",
    "* Width = 100px\n",
    "* Channels = 3\n",
    "\n",
    "The number of channels required to represent the color is known as the color depth or simply depth.\n",
    "* RGB image depth = 3\n",
    "* Grayscale image depth = 1\n",
    "\n",
    "\n",
    "\n",
    "100 * 100 * 3 dimensional vector \n",
    "\n",
    "### Encoding an Image\n",
    "\n",
    "to encode an image. We need to know the following three things about an image to reproduce it:\n",
    "\n",
    "* Horizontal position of each pixel\n",
    "* Vertical position of each pixel\n",
    "* Color of each pixel\n",
    "\n",
    "> can fully encode an image numerically by using a vector with three dimensions. The size of the vector required for any given image would be the height * width * depth of that image\n",
    "\n"
   ]
  },
  {
   "cell_type": "code",
   "execution_count": 12,
   "metadata": {},
   "outputs": [
    {
     "data": {
      "text/plain": [
       "225"
      ]
     },
     "execution_count": 12,
     "metadata": {},
     "output_type": "execute_result"
    }
   ],
   "source": [
    "15*15"
   ]
  },
  {
   "cell_type": "code",
   "execution_count": null,
   "metadata": {},
   "outputs": [],
   "source": []
  }
 ],
 "metadata": {
  "kernelspec": {
   "display_name": "Python 3.6.4 64-bit",
   "language": "python",
   "name": "python36464bit49be060b4cd54268b608c867974433c7"
  },
  "language_info": {
   "codemirror_mode": {
    "name": "ipython",
    "version": 3
   },
   "file_extension": ".py",
   "mimetype": "text/x-python",
   "name": "python",
   "nbconvert_exporter": "python",
   "pygments_lexer": "ipython3",
   "version": "3.6.4"
  },
  "latex_envs": {
   "LaTeX_envs_menu_present": true,
   "autoclose": false,
   "autocomplete": true,
   "bibliofile": "biblio.bib",
   "cite_by": "apalike",
   "current_citInitial": 1,
   "eqLabelWithNumbers": true,
   "eqNumInitial": 1,
   "hotkeys": {
    "equation": "Ctrl-E",
    "itemize": "Ctrl-I"
   },
   "labels_anchors": false,
   "latex_user_defs": false,
   "report_style_numbering": false,
   "user_envs_cfg": false
  }
 },
 "nbformat": 4,
 "nbformat_minor": 2
}
